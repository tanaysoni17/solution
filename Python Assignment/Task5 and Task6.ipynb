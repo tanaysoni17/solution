{
 "cells": [
  {
   "cell_type": "markdown",
   "id": "bc95f51a",
   "metadata": {},
   "source": [
    "# Task 5"
   ]
  },
  {
   "cell_type": "code",
   "execution_count": 17,
   "id": "9f973b8e",
   "metadata": {},
   "outputs": [
    {
     "ename": "SyntaxError",
     "evalue": "EOL while scanning string literal (4221359751.py, line 5)",
     "output_type": "error",
     "traceback": [
      "\u001b[1;36m  Input \u001b[1;32mIn [17]\u001b[1;36m\u001b[0m\n\u001b[1;33m    print(\"Hello, world!')\u001b[0m\n\u001b[1;37m                          ^\u001b[0m\n\u001b[1;31mSyntaxError\u001b[0m\u001b[1;31m:\u001b[0m EOL while scanning string literal\n"
     ]
    }
   ],
   "source": [
    "# 1. Write a program in Python to allow the error of syntax to be handled using exception handling.\n",
    "# HINT: Use SyntaxError\n",
    "\n",
    "try:\n",
    "    print(\"Hello, world!')\n",
    "except SyntaxError:\n",
    "          print(\"Syntax error occurred!\")\n",
    "finally:\n",
    "          print('this is important')"
   ]
  },
  {
   "cell_type": "code",
   "execution_count": 23,
   "id": "2afb7899",
   "metadata": {},
   "outputs": [
    {
     "name": "stdout",
     "output_type": "stream",
     "text": [
      "Please enter the file name: text.txt\n",
      "Please enter the correct name\n",
      "Please enter the file name: test.txt\n",
      "Hello! My name is Tanay Soni\n",
      "and I am looking for Data Engineer Roles.\n"
     ]
    }
   ],
   "source": [
    "# 2. Write a program in Python to allow the user to open a file by using the argv module. If the\n",
    "#entered name is incorrect throw an exception and ask them to enter the name again. Make sure\n",
    "#to use read only mode.\n",
    "\n",
    "def file_open():\n",
    "    while True:\n",
    "        try:\n",
    "            x = input('Please enter the file name: ')\n",
    "            f = open(x, 'r')\n",
    "            df = f.read()\n",
    "            print(df)\n",
    "            f.close()\n",
    "            break\n",
    "        except:\n",
    "            print('Please enter the correct name')\n",
    "\n",
    "file_open()"
   ]
  },
  {
   "cell_type": "code",
   "execution_count": 28,
   "id": "912977c9",
   "metadata": {},
   "outputs": [
    {
     "name": "stdout",
     "output_type": "stream",
     "text": [
      "Enter a four-digit number: 12345\n",
      "The length is too short/long !!! Please provide only four digits\n"
     ]
    }
   ],
   "source": [
    "#3. Write a program to handle an error if the user entered a number more than four digits it should\n",
    "#return “The length is too short/long !!! Please provide only four digits”\n",
    "user = input(\"Enter a four-digit number: \")\n",
    "\n",
    "try:\n",
    "    number = int(user)\n",
    "    if len(user) == 4:\n",
    "        print(\"Valid:\", number)\n",
    "    else:\n",
    "        raise ValueError(\"The length is too short/long !!! Please provide only four digits\")\n",
    "except ValueError as e:\n",
    "    print(str(e))"
   ]
  },
  {
   "cell_type": "code",
   "execution_count": 31,
   "id": "946685ed",
   "metadata": {},
   "outputs": [
    {
     "name": "stdout",
     "output_type": "stream",
     "text": [
      "Please enter your username: tanay\n",
      "Please enter your password: 1234\n",
      "Incorrect Password, please try again\n",
      "Please enter your password: 1234\n",
      "Incorrect Password, please try again\n",
      "Please enter your password: 1233\n",
      "Incorrect Password, please try again\n",
      "Max reached try again later!\n"
     ]
    }
   ],
   "source": [
    "#4. Create a login page backend to ask users to enter the username and password. Make sure to\n",
    "#ask for a Re-Type Password and if the password is incorrect give chance to enter it again but it\n",
    "#should not be more than 3 times.\n",
    "\n",
    "un = 'tanay'\n",
    "pw = 'qwerty'\n",
    "count = 1\n",
    "max_count = 3\n",
    "username = input('Please enter your username: ')\n",
    "while count <= max_count:\n",
    "    password = input('Please enter your password: ')\n",
    "    try:\n",
    "        if pw == password:\n",
    "            print(\"Password Successful\")\n",
    "            break\n",
    "        else:\n",
    "            raise ValueError('Incorrect Password, please try again')\n",
    "    \n",
    "    except ValueError as e:\n",
    "        print(e)\n",
    "        count += 1\n",
    "\n",
    "if count > max_count:\n",
    "    print('Max reached try again later!')"
   ]
  },
  {
   "cell_type": "code",
   "execution_count": null,
   "id": "6e27d0f9",
   "metadata": {},
   "outputs": [],
   "source": [
    "#5. Go through the link provided below to understand finally and raise concept:\n",
    "#https://www.programiz.com/python-programming/exception-handling\n"
   ]
  },
  {
   "cell_type": "code",
   "execution_count": 48,
   "id": "5728b53d",
   "metadata": {},
   "outputs": [
    {
     "name": "stdout",
     "output_type": "stream",
     "text": [
      "['am', 'file', 'need', 'to', 'return', 'data', 'string', 'is', 'of', 'even', 'length', 'Make', 'sure', 'return', 'in', 'same', 'link', 'as', 'it', 'is', 'present.']\n"
     ]
    }
   ],
   "source": [
    "#6. Read doc.txt file using Python File handling concept and return only the even length string from\n",
    "#the file. Consider the content of doc.txt as given below:\n",
    "#Hello I am a file\n",
    "#Where you need to return the data string\n",
    "#Which is of even length\n",
    "#Make sure you return the content in The same link as it is present.\n",
    "\n",
    "f = open('doc.txt', 'r')\n",
    "df = f.read()\n",
    "wrd = df.split()\n",
    "l = []\n",
    "for i in wrd:\n",
    "    if len(i)%2==0:\n",
    "        l.append(i)\n",
    "print(l)\n",
    "f.close()"
   ]
  },
  {
   "cell_type": "markdown",
   "id": "67c7d83d",
   "metadata": {},
   "source": [
    "# TASK 6"
   ]
  },
  {
   "cell_type": "code",
   "execution_count": 56,
   "id": "c01a8c12",
   "metadata": {},
   "outputs": [
    {
     "name": "stdout",
     "output_type": "stream",
     "text": [
      "['H', 'W']\n"
     ]
    }
   ],
   "source": [
    "#1. Write a program in Python to find out the character in a string which is uppercase using list\n",
    "#comprehension.\n",
    "    \n",
    "a = 'Hello World'\n",
    "b = [x for x in a if x.isupper()]\n",
    "print(b)"
   ]
  },
  {
   "cell_type": "code",
   "execution_count": 62,
   "id": "11b4c2e5",
   "metadata": {},
   "outputs": [
    {
     "name": "stdout",
     "output_type": "stream",
     "text": [
      "{'Smit': 'CSE', 'Jaya': 'Networking', 'Rayyan': 'Operating System'}\n"
     ]
    }
   ],
   "source": [
    "#2. Write a program to construct a dictionary from the two lists containing the names of students and\n",
    "#their corresponding subjects. The dictionary should map the students with their respective subjects.\n",
    "#Let’s see how to do this using for loops and dictionary comprehension.\n",
    "#HINT - Use Zip function also\n",
    "#Sample input: students = ['Smit', 'Jaya', 'Rayyan'] subjects = ['CSE', 'Networking', 'Operating System']\n",
    "#Expected output: {‘Smit’ : ’CSE’ , ’Jaya’ : ’Networking’ , ’Rayyan’ : ’Operating System’}\n",
    "\n",
    "students = ['Smit', 'Jaya', 'Rayyan']\n",
    "subjects = ['CSE', 'Networking', 'Operating System']\n",
    "d = {}\n",
    "for students, subjects in zip(students, subjects):\n",
    "    d[students] = subjects\n",
    "    \n",
    "print(d)\n"
   ]
  },
  {
   "cell_type": "code",
   "execution_count": 4,
   "id": "2d869cd4",
   "metadata": {},
   "outputs": [],
   "source": [
    "#3. Learn More about Yield, next and Generators\n"
   ]
  },
  {
   "cell_type": "code",
   "execution_count": 68,
   "id": "852c139c",
   "metadata": {},
   "outputs": [
    {
     "name": "stdout",
     "output_type": "stream",
     "text": [
      "Consultadd Training\n",
      "gniniarT ddatlusnoC\n"
     ]
    }
   ],
   "source": [
    "#4. Write a program in Python using generators to reverse the string.\n",
    "#Input String = “Consultadd Training”\n",
    "\n",
    "def reverse(a):\n",
    "    for i in range(len(a)-1,-1,-1):\n",
    "        yield a[i]\n",
    "\n",
    "input_string = input()\n",
    "reverse = ''.join(reverse(input_string))\n",
    "print(reverse)"
   ]
  },
  {
   "cell_type": "code",
   "execution_count": 69,
   "id": "933b3ef8",
   "metadata": {},
   "outputs": [
    {
     "name": "stdout",
     "output_type": "stream",
     "text": [
      "1\n",
      "4\n",
      "9\n",
      "16\n",
      "25\n",
      "36\n",
      "49\n",
      "64\n",
      "81\n",
      "100\n"
     ]
    }
   ],
   "source": [
    "#5. Write an example on decorators.\n"
   ]
  }
 ],
 "metadata": {
  "kernelspec": {
   "display_name": "Python 3 (ipykernel)",
   "language": "python",
   "name": "python3"
  },
  "language_info": {
   "codemirror_mode": {
    "name": "ipython",
    "version": 3
   },
   "file_extension": ".py",
   "mimetype": "text/x-python",
   "name": "python",
   "nbconvert_exporter": "python",
   "pygments_lexer": "ipython3",
   "version": "3.9.12"
  }
 },
 "nbformat": 4,
 "nbformat_minor": 5
}
