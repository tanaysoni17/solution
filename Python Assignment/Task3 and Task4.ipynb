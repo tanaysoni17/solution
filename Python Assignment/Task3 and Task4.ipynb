{
 "cells": [
  {
   "cell_type": "markdown",
   "id": "85e123e5",
   "metadata": {},
   "source": [
    "# Task 3"
   ]
  },
  {
   "cell_type": "code",
   "execution_count": 5,
   "id": "9e2c0095",
   "metadata": {},
   "outputs": [
    {
     "data": {
      "text/plain": [
       "[1, 1.12, (1+5j), 'tanay', 1, 1.12, (1+5j), 'tanay', 1, 1.12, (1+5j), 'tanay']"
      ]
     },
     "execution_count": 5,
     "metadata": {},
     "output_type": "execute_result"
    }
   ],
   "source": [
    "# 1. Create a list of 10 elements of four different data types like int, string, complex and float.\n",
    "\n",
    "l = [1,1.12, 1+5j,'tanay',1,1.12,1 + 5j,'tanay',1,1.12,1 + 5j,'tanay']\n",
    "l"
   ]
  },
  {
   "cell_type": "code",
   "execution_count": 6,
   "id": "328572a0",
   "metadata": {},
   "outputs": [
    {
     "data": {
      "text/plain": [
       "10"
      ]
     },
     "execution_count": 6,
     "metadata": {},
     "output_type": "execute_result"
    }
   ],
   "source": [
    "# 2. Create a list of size 5 and execute the slicing structure\n",
    "l = [10,20,30,40,50]\n",
    "l[0]"
   ]
  },
  {
   "cell_type": "code",
   "execution_count": 13,
   "id": "27a71709",
   "metadata": {},
   "outputs": [
    {
     "name": "stdout",
     "output_type": "stream",
     "text": [
      "Multiplication:  600\n",
      "Addition:  50\n"
     ]
    }
   ],
   "source": [
    "#3. Write a program to get the sum and multiply of all the items in a given list.\n",
    "l = [10,20,30]\n",
    "i = 0\n",
    "m = 0\n",
    "a = 0\n",
    "while i < len(l)-1:\n",
    "    m = l[i]*l[i+1]\n",
    "    a = l[i]+l[i+1]\n",
    "    i+=1\n",
    "\n",
    "print('Multiplication: ',m)\n",
    "print('Addition: ',a)"
   ]
  },
  {
   "cell_type": "code",
   "execution_count": 15,
   "id": "f2332881",
   "metadata": {},
   "outputs": [
    {
     "name": "stdout",
     "output_type": "stream",
     "text": [
      "10\n",
      "50\n"
     ]
    }
   ],
   "source": [
    "#4. Find the largest and smallest number from a given list.\n",
    "l = [10,20,30,40,50]\n",
    "print(min(l))\n",
    "print(max(l))\n"
   ]
  },
  {
   "cell_type": "code",
   "execution_count": 22,
   "id": "dd954047",
   "metadata": {},
   "outputs": [
    {
     "name": "stdout",
     "output_type": "stream",
     "text": [
      "[1, 3, 5, 7, 9, 11, 13, 15, 17, 19, 21, 23, 25, 27, 29, 31, 33, 35, 37, 39, 41, 43, 45, 47, 49]\n"
     ]
    }
   ],
   "source": [
    "# 5. Create a new list which contains the specified numbers after removing the even numbers from a predefined list.\n",
    "\n",
    "l = list(range(1,51))\n",
    "odd = []\n",
    "for i in l:\n",
    "    if i%2!=0:\n",
    "        odd.append(i)\n",
    "print(odd)"
   ]
  },
  {
   "cell_type": "code",
   "execution_count": 33,
   "id": "40d37f3c",
   "metadata": {},
   "outputs": [
    {
     "name": "stdout",
     "output_type": "stream",
     "text": [
      "[1, 4, 9, 16, 25, 676, 729, 784, 841, 900]\n"
     ]
    }
   ],
   "source": [
    "#6. Create a list of elements such that it contains the squares of the first and last 5 elements between\n",
    "# 1 and 30 (both included).\n",
    "\n",
    "l = list(range(1,31))\n",
    "square = []\n",
    "j = -10\n",
    "for i in l:\n",
    "    if (j in range(-5,0)) or (j in range(0,5)):\n",
    "        square.append(l[j]**2)\n",
    "    j +=1\n",
    "print(sorted(square))"
   ]
  },
  {
   "cell_type": "code",
   "execution_count": 35,
   "id": "3a85680d",
   "metadata": {},
   "outputs": [
    {
     "name": "stdout",
     "output_type": "stream",
     "text": [
      "[1, 3, 5, 7, 9, 2, 4, 6, 8]\n"
     ]
    }
   ],
   "source": [
    "#7. Write a program to replace the last element in a list with another list.\n",
    "#Sample input: [1,3,5,7,9,10], [2,4,6,8]\n",
    "#Expected output: [1,3,5,7,9,2,4,6,8]\n",
    "\n",
    "l = [1,3,5,7,9,10]\n",
    "b = [2,4,6,8]\n",
    "\n",
    "l[-1:] = b\n",
    "\n",
    "print(l)"
   ]
  },
  {
   "cell_type": "code",
   "execution_count": 40,
   "id": "4611981a",
   "metadata": {},
   "outputs": [
    {
     "name": "stdout",
     "output_type": "stream",
     "text": [
      "{1: 10, 2: 20, 3: 30, 4: 40}\n"
     ]
    }
   ],
   "source": [
    "# 8. Create a new dictionary by concatenating the following two dictionaries:\n",
    "#Sample input: a={1:10,2:20} b={3:30,4:40}\n",
    "#Expected output: {1:10,2:20,3:30,4:40}\n",
    "\n",
    "a = {1:10,2:20}\n",
    "b = {3:30,4:40}\n",
    "\n",
    "for i in b.keys():\n",
    "        a[i]=b[i]\n",
    "print(a)\n"
   ]
  },
  {
   "cell_type": "code",
   "execution_count": 47,
   "id": "24a5b9a4",
   "metadata": {},
   "outputs": [
    {
     "name": "stdout",
     "output_type": "stream",
     "text": [
      "Specify the range you want to see the squares of: 5\n",
      "{1: 1, 2: 4, 3: 9, 4: 16, 5: 25}\n"
     ]
    }
   ],
   "source": [
    "#9. Create a dictionary that contain numbers in the form(x:x*x) where x takes all the values between 1\n",
    "#and n(both 1 and n included).\n",
    "#Sample input: n=5\n",
    "#Expected output: {1:1, 2:4, 3:9, 4:16, 5:25}\n",
    "\n",
    "a = {}\n",
    "n = range(1,(int(input('Specify the range you want to see the squares of: ')))+1)\n",
    "for i in n:\n",
    "    a[i] = i**2\n",
    "\n",
    "print(a)\n"
   ]
  },
  {
   "cell_type": "code",
   "execution_count": 52,
   "id": "f42d51d1",
   "metadata": {},
   "outputs": [
    {
     "name": "stdout",
     "output_type": "stream",
     "text": [
      "Please enter all the number here: 34,67,55,33,12,98\n",
      "['34', '67', '55', '33', '12', '98']\n",
      "('34', '67', '55', '33', '12', '98')\n"
     ]
    }
   ],
   "source": [
    "#10. Write a program which accepts a sequence of comma-separated numbers from console and\n",
    "#generates a list and a tuple which contains every number in the form of string.\n",
    "#Sample input: 34,67,55,33,12,98\n",
    "#Expected output: [‘34’,’67’,’55’,’33’,’12’,’98’] (‘34’,’67’,’55’,’33’,’12’,’98’)\n",
    "\n",
    "m = input('Please enter all the number here: ')\n",
    "l = m.split(',')\n",
    "t = tuple(l)\n",
    "\n",
    "print(l)\n",
    "print(t)\n"
   ]
  },
  {
   "cell_type": "markdown",
   "id": "2ac4347d",
   "metadata": {},
   "source": [
    "# Task 4"
   ]
  },
  {
   "cell_type": "code",
   "execution_count": 72,
   "id": "47d7098d",
   "metadata": {},
   "outputs": [
    {
     "name": "stdout",
     "output_type": "stream",
     "text": [
      "dcba4321\n"
     ]
    },
    {
     "data": {
      "text/plain": [
       "'dcba4321'"
      ]
     },
     "execution_count": 72,
     "metadata": {},
     "output_type": "execute_result"
    }
   ],
   "source": [
    "#1. Write a program to reverse a string.\n",
    "#Sample input: “1234abcd”\n",
    "#Expected output: “dcba4321”\n",
    "a = '1234abcd'\n",
    "b = ''\n",
    "for i in range(len(a)-1,-1,-1):\n",
    "    b += a[i] \n",
    "print(b)\n",
    "\n",
    "# OR\n",
    "\n",
    "a[::-1]"
   ]
  },
  {
   "cell_type": "code",
   "execution_count": 80,
   "id": "3a694114",
   "metadata": {},
   "outputs": [
    {
     "name": "stdout",
     "output_type": "stream",
     "text": [
      "Please enter the string here: abcSdefPghijQkl\n",
      " No. of Uppercase characters:  3   No. of Lower case Characters : 12\n"
     ]
    }
   ],
   "source": [
    "# 2. Write a function that accepts a string and prints the number of uppercase letters and lowercase letters.\n",
    "#Sample input: “abcSdefPghijQkl”\n",
    "#Expected Output: No. of Uppercase characters : 3 No. of Lower case Characters : 12\n",
    "\n",
    "def char(a):\n",
    "    Low = 0\n",
    "    Upp = 0\n",
    "    for i in a:\n",
    "        if i.islower():\n",
    "            Low+=1\n",
    "        elif i.isupper():\n",
    "            Upp+=1\n",
    "\n",
    "    print(' No. of Uppercase characters: ', Upp, ' ', 'No. of Lower case Characters :', Low)\n",
    "    \n",
    "enter = input('Please enter the string here: ')\n",
    "char(enter)"
   ]
  },
  {
   "cell_type": "code",
   "execution_count": 81,
   "id": "f7e3744b",
   "metadata": {},
   "outputs": [
    {
     "data": {
      "text/plain": [
       "[1, 2, 3, 4, 5, 6]"
      ]
     },
     "execution_count": 81,
     "metadata": {},
     "output_type": "execute_result"
    }
   ],
   "source": [
    "# 3. Create a function that takes a list and returns a new list with unique elements of the first list.\n",
    "def unique_list(a):\n",
    "    return(list(set(a)))\n",
    "\n",
    "unorganized_list = [1,2,3,4,5,5,3,4,6]\n",
    "unique_list(unorganized_list)"
   ]
  },
  {
   "cell_type": "code",
   "execution_count": 86,
   "id": "c2a99a48",
   "metadata": {},
   "outputs": [
    {
     "name": "stdout",
     "output_type": "stream",
     "text": [
      "Enter a hyphen-separated sequence of words: efgh-abcd\n",
      "Sorted sequence: abcd-efgh\n"
     ]
    }
   ],
   "source": [
    "# 4. Write a program that accepts a hyphen-separated sequence of words as input and prints the words\n",
    "# in a hyphen-separated sequence after sorting them alphabetically.\n",
    "\n",
    "hypen_words = input(\"Enter a hyphen-separated sequence of words: \")\n",
    "\n",
    "words = hypen_words.split(\"-\")\n",
    "sorted_words = sorted(words)\n",
    "\n",
    "output_sequence = \"-\".join(sorted_words)\n",
    "\n",
    "print(\"Sorted sequence:\", output_sequence)"
   ]
  },
  {
   "cell_type": "code",
   "execution_count": 88,
   "id": "c107d535",
   "metadata": {},
   "outputs": [
    {
     "name": "stdout",
     "output_type": "stream",
     "text": [
      "Enter words: Hello world Practice makes man perfect\n",
      "HELLO WORLD PRACTICE MAKES MAN PERFECT\n"
     ]
    }
   ],
   "source": [
    "#5. Write a program that accepts a sequence of lines as input and prints the lines after making all\n",
    "#characters in the sentence capitalized.\n",
    "\n",
    "words = input(\"Enter words: \")\n",
    "capital = words.upper()\n",
    "print(capital)"
   ]
  },
  {
   "cell_type": "code",
   "execution_count": 90,
   "id": "76e5af15",
   "metadata": {},
   "outputs": [
    {
     "name": "stdout",
     "output_type": "stream",
     "text": [
      "Enter 1st no. 4\n",
      "Enter 2nd no. 8\n",
      "sum of the nos. 12\n"
     ]
    }
   ],
   "source": [
    "#6. Define a function that can receive two integral numbers in string form and compute their sum and\n",
    "#print it in the console.\n",
    "\n",
    "nums = input(\"Enter 1st no. \"), input(\"Enter 2nd no. \")\n",
    "print('sum of the nos.', int(nums[0])+int(nums[1]))"
   ]
  },
  {
   "cell_type": "code",
   "execution_count": 96,
   "id": "c435bff7",
   "metadata": {},
   "outputs": [
    {
     "name": "stdout",
     "output_type": "stream",
     "text": [
      "Enter 1st String to compare: 1234567\n",
      "Enter 2nd String to compare: 12345\n",
      "1234567\n"
     ]
    }
   ],
   "source": [
    "# 7. Define a function that can accept two strings as input and print the string with the maximum length\n",
    "#in the console. If two strings have the same length, then the function should print both the strings line\n",
    "#by line.\n",
    "\n",
    "def compare(a,b):\n",
    "    if len(str1) > len(str2):\n",
    "        print(str1)\n",
    "    elif len(str1) == len(str2):\n",
    "        print(str1)\n",
    "        print(str2)\n",
    "    else:\n",
    "        print(str2)\n",
    "    \n",
    "\n",
    "str1 = input(\"Enter 1st String to compare: \")\n",
    "str2 = input(\"Enter 2nd String to compare: \")\n",
    "compare(str1,str2)"
   ]
  },
  {
   "cell_type": "code",
   "execution_count": 107,
   "id": "335225cd",
   "metadata": {},
   "outputs": [
    {
     "name": "stdout",
     "output_type": "stream",
     "text": [
      "(1, 4, 9, 16, 25, 36, 49, 64, 81, 100, 121, 144, 169, 196, 225, 256, 289, 324, 361, 400)\n"
     ]
    }
   ],
   "source": [
    "#8. Define a function which can generate and print a tuple where the values are square of numbers\n",
    "#between 1 and 20 (both 1 and 20 included).\n",
    "\n",
    "def square_tpl():\n",
    "    j = range(1,21)\n",
    "    k = []\n",
    "    for i in j:\n",
    "        square = i**2\n",
    "        k.append(square)\n",
    "    print(tuple(k))\n",
    "\n",
    "square_tpl()"
   ]
  },
  {
   "cell_type": "code",
   "execution_count": 114,
   "id": "fff20c40",
   "metadata": {},
   "outputs": [
    {
     "name": "stdout",
     "output_type": "stream",
     "text": [
      "Please enter your limit: 3\n",
      "0  Even\n",
      "1  Odd\n",
      "2  Even\n",
      "3  Odd\n"
     ]
    }
   ],
   "source": [
    "#9. Write a function called showNumbers that takes a parameter called limit. It should print all the\n",
    "#numbers between 0 and limit with a label to identify the even and odd numbers.\n",
    "\n",
    "def showNumber(limit):\n",
    "    j = range(0,limit+1)\n",
    "    for i in j:\n",
    "        if i==0:\n",
    "            print(i, ' Even')\n",
    "        elif i%2 ==0:\n",
    "            print(i, ' Even')\n",
    "        else:\n",
    "            print(i, ' Odd')\n",
    "\n",
    "a = int(input('Please enter your limit: '))\n",
    "showNumber(a)"
   ]
  },
  {
   "cell_type": "code",
   "execution_count": 115,
   "id": "33151e96",
   "metadata": {},
   "outputs": [
    {
     "name": "stdout",
     "output_type": "stream",
     "text": [
      "[2, 4, 6, 8, 10, 12, 14, 16, 18, 20]\n"
     ]
    }
   ],
   "source": [
    "#10. Write a program which uses filter() to make a list whose elements are even numbers between 1\n",
    "#and 20 (both included)\n",
    "\n",
    "even = list(filter(lambda x: x % 2 == 0, range(1, 21)))\n",
    "print(even)"
   ]
  },
  {
   "cell_type": "code",
   "execution_count": 118,
   "id": "6b599208",
   "metadata": {},
   "outputs": [
    {
     "name": "stdout",
     "output_type": "stream",
     "text": [
      "[4, 16, 36, 64, 100]\n"
     ]
    }
   ],
   "source": [
    "#11. Write a program which uses map() and filter() to make a list whose elements are squares of even\n",
    "#numbers in [1,2,3,4,5,6,7,8,9,10].\n",
    "#Hints: Use filter() to filter even elements of the given listUse map() to generate a list of squares of the\n",
    "#numbers in the filtered list. Use lambda() to define anonymous functions.\n",
    "\n",
    "l = [1,2,3,4,5,6,7,8,9,10]\n",
    "even = list(filter(lambda x: x % 2 == 0, l))\n",
    "square = list(map(lambda x: x**2, even))\n",
    "print(square)"
   ]
  },
  {
   "cell_type": "code",
   "execution_count": 121,
   "id": "0b04a003",
   "metadata": {},
   "outputs": [
    {
     "name": "stdout",
     "output_type": "stream",
     "text": [
      "N/A\n"
     ]
    }
   ],
   "source": [
    "#12. Write a function to compute 5/0 and use try/except to catch the exceptions\n",
    "i = 5\n",
    "j = 0\n",
    "try:\n",
    "    print(i/j)\n",
    "except ZeroDivisionError:\n",
    "    print(\"N/A\")\n"
   ]
  },
  {
   "cell_type": "code",
   "execution_count": 128,
   "id": "d65475cc",
   "metadata": {},
   "outputs": [
    {
     "name": "stdout",
     "output_type": "stream",
     "text": [
      "1234567\n"
     ]
    }
   ],
   "source": [
    "#13. Flatten the list [1,2,3,4,5,6,7] into 1234567 using reduce().\n",
    "\n",
    "from functools import reduce\n",
    "\n",
    "l = [1,2,3,4,5,6,7]\n",
    "fl = reduce(lambda x, y: int(str(x)+str(y)), l)\n",
    "print(fl)"
   ]
  },
  {
   "cell_type": "code",
   "execution_count": 135,
   "id": "81aae6c5",
   "metadata": {},
   "outputs": [
    {
     "name": "stdout",
     "output_type": "stream",
     "text": [
      "Please define a range: 70\n",
      "[7, 14, 28, 35, 49, 56]\n"
     ]
    }
   ],
   "source": [
    "#14. Write a program in Python to find the values which are not divisible by 3 but are a multiple of 7.\n",
    "# Make sure to use only higher order functions.\n",
    "\n",
    "k = int(input('Please define a range: '))\n",
    "h = []\n",
    "f = []\n",
    "j = range(1,k)\n",
    "for i in j:\n",
    "    if i < 7:\n",
    "        f.append('')\n",
    "    elif (i%3!=0 and i%7==0):\n",
    "        h.append(i)\n",
    "\n",
    "print(h)"
   ]
  },
  {
   "cell_type": "code",
   "execution_count": 137,
   "id": "2448fe40",
   "metadata": {},
   "outputs": [
    {
     "name": "stdout",
     "output_type": "stream",
     "text": [
      "[1, 4, 9, 16, 25]\n"
     ]
    }
   ],
   "source": [
    "# 15. Write a program in Python to multiply the elements of a list by itself using a traditional function\n",
    "# and pass the function to map() to complete the operation.\n",
    "\n",
    "def multiply(num):\n",
    "    return num * num\n",
    "\n",
    "l = [1, 2, 3, 4, 5]\n",
    "\n",
    "new_numbers = list(map(multiply, l))\n",
    "print(new_numbers)"
   ]
  },
  {
   "cell_type": "markdown",
   "id": "0bc3e21b",
   "metadata": {},
   "source": [
    "## #16 Code outputs"
   ]
  },
  {
   "cell_type": "markdown",
   "id": "a0bd2c64",
   "metadata": {},
   "source": [
    "### (i) \n",
    "\n",
    "    The output should be 2"
   ]
  },
  {
   "cell_type": "markdown",
   "id": "6af4d2ad",
   "metadata": {},
   "source": [
    "### (ii)\n",
    "\n",
    "    This should give an error since we have not defined x"
   ]
  },
  {
   "cell_type": "code",
   "execution_count": null,
   "id": "5044ed78",
   "metadata": {},
   "outputs": [],
   "source": []
  }
 ],
 "metadata": {
  "kernelspec": {
   "display_name": "Python 3 (ipykernel)",
   "language": "python",
   "name": "python3"
  },
  "language_info": {
   "codemirror_mode": {
    "name": "ipython",
    "version": 3
   },
   "file_extension": ".py",
   "mimetype": "text/x-python",
   "name": "python",
   "nbconvert_exporter": "python",
   "pygments_lexer": "ipython3",
   "version": "3.9.12"
  }
 },
 "nbformat": 4,
 "nbformat_minor": 5
}
