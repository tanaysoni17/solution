{
 "cells": [
  {
   "cell_type": "code",
   "execution_count": 16,
   "id": "dba0d3f9",
   "metadata": {},
   "outputs": [
    {
     "name": "stdout",
     "output_type": "stream",
     "text": [
      "input values in a comma-separated sequence.10,20,30\n",
      "[5.773502691896258, 8.16496580927726, 10.0]\n"
     ]
    }
   ],
   "source": [
    "\"\"\"1. Write a program that calculates and prints the value according to the given formula:\n",
    "Q= Square root of [(2*C*D)/H]\n",
    "Following are the fixed values of C and H:\n",
    "C is 50.\n",
    "H is 30.\n",
    "D is a variable whose values should be input to your program in a comma-separated sequence.\n",
    "\"\"\"\n",
    "from math import sqrt\n",
    "c = 50\n",
    "h = 30\n",
    "d = input('input values in a comma-separated sequence.')\n",
    "d = d.split(',')\n",
    "result = []\n",
    "for i in d:\n",
    "    D = int(i)\n",
    "    q = sqrt((2*c*D)/h)\n",
    "    result.append(q)\n",
    "    \n",
    "print(result)"
   ]
  },
  {
   "cell_type": "code",
   "execution_count": 62,
   "id": "4382cc91",
   "metadata": {},
   "outputs": [
    {
     "name": "stdout",
     "output_type": "stream",
     "text": [
      "area of square:  25\n",
      "Area of shape:  0\n"
     ]
    }
   ],
   "source": [
    "\"\"\"2. Define a class named Shape and its subclass Square. The Square class has an init function which\n",
    "takes length as argument. Both classes have an area function which can print the area of the shape\n",
    "where Shape’s area is 0 by default.\"\"\"\n",
    "\n",
    "class Shape:\n",
    "    def __init__(self):\n",
    "        self.area = 0\n",
    "    def carea(self):\n",
    "        print(\"Area of shape: \", self.area)\n",
    "        \n",
    "class Square(Shape):\n",
    "    def __init__(self, length):\n",
    "        super().__init__()\n",
    "        self.length = length\n",
    "    def carea(self):\n",
    "        self.area = self.length**2\n",
    "        print('area of square: ',self.area)\n",
    "        \n",
    "o1 = Square(5)\n",
    "o1.carea()\n",
    "o2 = Shape()\n",
    "o2.carea()"
   ]
  },
  {
   "cell_type": "code",
   "execution_count": 65,
   "id": "5b67b269",
   "metadata": {},
   "outputs": [
    {
     "name": "stdout",
     "output_type": "stream",
     "text": [
      "[[-10, 2, 8], [-7, -3, 10]]\n"
     ]
    }
   ],
   "source": [
    "\"\"\"3. Create a class to find three elements that sum to zero from a set of n real numbers\n",
    "Input array: [-25,-10,-7,-3,2,4,8,10]\n",
    "Expected output: [[-10,2,8],[-7,-3,10]]\"\"\"\n",
    "\n",
    "class ThreeSum:\n",
    "    def find_three_sum(self, nums):\n",
    "        result = []\n",
    "        nums.sort()  # Sort the array in ascending order\n",
    "\n",
    "        n = len(nums)\n",
    "        for i in range(n - 2):\n",
    "            if i > 0 and nums[i] == nums[i - 1]:\n",
    "                continue  # Skip duplicates\n",
    "\n",
    "            left = i + 1\n",
    "            right = n - 1\n",
    "\n",
    "            while left < right:\n",
    "                total = nums[i] + nums[left] + nums[right]\n",
    "                if total < 0:\n",
    "                    left += 1\n",
    "                elif total > 0:\n",
    "                    right -= 1\n",
    "                else:\n",
    "                    result.append([nums[i], nums[left], nums[right]])\n",
    "                    while left < right and nums[left] == nums[left + 1]:\n",
    "                        left += 1  # Skip duplicates\n",
    "                    while left < right and nums[right] == nums[right - 1]:\n",
    "                        right -= 1  # Skip duplicates\n",
    "                    left += 1\n",
    "                    right -= 1\n",
    "\n",
    "        return result\n",
    "\n",
    "\n",
    "# Test the ThreeSum class\n",
    "input_array = [-25, -10, -7, -3, 2, 4, 8, 10]\n",
    "three_sum = ThreeSum()\n",
    "output = three_sum.find_three_sum(input_array)\n",
    "print(output)"
   ]
  },
  {
   "cell_type": "code",
   "execution_count": 79,
   "id": "4458695c",
   "metadata": {},
   "outputs": [
    {
     "name": "stdout",
     "output_type": "stream",
     "text": [
      "4  hour and  10  minutes\n",
      "250  minutes\n"
     ]
    }
   ],
   "source": [
    "\"\"\"4. Create a Time class and initialize it with hours and minutes.\n",
    "Create a method addTime which should take two Time objects and add them.\n",
    "E.g.- (2 hour and 50 min)+(1 hr and 20 min) is (4 hr and 10 min)\n",
    "Create another method displayTime which should print the time.\n",
    "Also create a method displayMinute which should display the total minutes in the Time.\n",
    "E.g.- (1 hr 2 min) should display 62 minute.\n",
    "\"\"\"\n",
    "class Time:\n",
    "    def __init__(self, hours, minutes):\n",
    "        self.hours = hours\n",
    "        self.minutes = minutes\n",
    "\n",
    "    def addTime(self, t1, t2):\n",
    "        total_minutes = t1.minutes + t2.minutes\n",
    "        additional_hours = total_minutes // 60\n",
    "        remaining_minutes = total_minutes % 60\n",
    "\n",
    "        hours = t1.hours + t2.hours + additional_hours\n",
    "        minutes = remaining_minutes\n",
    "\n",
    "        return Time(hours, minutes)\n",
    "\n",
    "    def displayTime(self):\n",
    "        print(self.hours, ' hour and ', self.minutes, ' minutes')\n",
    "        \n",
    "    def displayMinute(self):\n",
    "        print((self.hours*60)+self.minutes, ' minutes')\n",
    "        \n",
    "time1 = Time(2,50)\n",
    "time2 = Time(1,20)\n",
    "\n",
    "result = time1.addTime(time1, time2)\n",
    "result.displayTime()\n",
    "result.displayMinute()"
   ]
  },
  {
   "cell_type": "code",
   "execution_count": 78,
   "id": "ff3ed442",
   "metadata": {},
   "outputs": [
    {
     "name": "stdout",
     "output_type": "stream",
     "text": [
      "Age is not valid, setting age to 0\n",
      "You are young\n",
      "You are young\n",
      "You are a teenager\n",
      "You are a teenager\n",
      "You are old\n",
      "You are old\n",
      "42\n"
     ]
    }
   ],
   "source": [
    "\"\"\"5. Write a Person class with an instance variable “age” and a constructor that takes an integer as a\n",
    "parameter. The constructor must assign the integer value to the age variable after confirming the\n",
    "argument passed is not negative; if a negative argument is passed then the constructor should set\n",
    "age to 0 and print “Age is not valid, setting age to 0”. In addition, you must write the following instance\n",
    "methods:\n",
    "\n",
    "yearPasses() should increase age by the integer value that you are passing inside the function.\n",
    "amIOld() should perform the following conditional actions:\n",
    "If age is between 0 and <13, print “You are young”.\n",
    "If age is >=13 and <=19 , print “You are a teenager”.\n",
    "Otherwise, print “You are old”.\n",
    "\n",
    "Sample Input for amIOld():\n",
    "-1\n",
    "4\n",
    "10\n",
    "16\n",
    "18\n",
    "64\n",
    "38\n",
    "\n",
    "Expected Output for amIOld():\n",
    "Age is not valid, setting age to 0.\n",
    "You are young.\n",
    "You are young.\n",
    "You are a teenager.\n",
    "You are a teenager.\n",
    "You are old.\n",
    "You are old.\n",
    "\n",
    "Consider the age variable to be set to 38 then:\n",
    "Sample Input for yearPasses(): 4\n",
    "Expected Output for yearPasses(): 42\"\"\"\n",
    "\n",
    "class Person:\n",
    "    \n",
    "    def __init__(self, age):\n",
    "        if age >= 0:\n",
    "            self.age = age\n",
    "        else:\n",
    "            self.age = 0\n",
    "            print('Age is not valid, setting age to 0')\n",
    "            \n",
    "    def yearPasses(self, year):\n",
    "        print(self.age + year)\n",
    "        \n",
    "    def amIOld(self):\n",
    "        if self.age >0 and self.age < 13:\n",
    "            print('You are young')\n",
    "        elif self.age >=13 and self.age <=19:\n",
    "            print('You are a teenager')\n",
    "        elif self.age > 19:\n",
    "            print('You are old')\n",
    "\n",
    "o3 = Person(-1)\n",
    "o3.amIOld()\n",
    "\n",
    "o4 = Person(4)\n",
    "o4.amIOld()\n",
    "\n",
    "o5 = Person(10)\n",
    "o5.amIOld()\n",
    "\n",
    "o6 = Person(16)\n",
    "o6.amIOld()\n",
    "\n",
    "o7 = Person(18)\n",
    "o7.amIOld()\n",
    "\n",
    "o8 = Person(64)\n",
    "o8.amIOld()\n",
    "\n",
    "o9 = Person(38)\n",
    "o9.amIOld()\n",
    "\n",
    "o10 = Person(38)\n",
    "o10.yearPasses(4)\n"
   ]
  },
  {
   "cell_type": "code",
   "execution_count": null,
   "id": "03714c99",
   "metadata": {},
   "outputs": [],
   "source": []
  }
 ],
 "metadata": {
  "kernelspec": {
   "display_name": "Python 3 (ipykernel)",
   "language": "python",
   "name": "python3"
  },
  "language_info": {
   "codemirror_mode": {
    "name": "ipython",
    "version": 3
   },
   "file_extension": ".py",
   "mimetype": "text/x-python",
   "name": "python",
   "nbconvert_exporter": "python",
   "pygments_lexer": "ipython3",
   "version": "3.9.12"
  }
 },
 "nbformat": 4,
 "nbformat_minor": 5
}
