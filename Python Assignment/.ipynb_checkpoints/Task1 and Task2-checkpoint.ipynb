{
 "cells": [
  {
   "cell_type": "markdown",
   "id": "b5bfaf96",
   "metadata": {},
   "source": [
    "# TASK 1"
   ]
  },
  {
   "cell_type": "code",
   "execution_count": 10,
   "id": "00166a3f",
   "metadata": {},
   "outputs": [],
   "source": [
    "# 1. Create three variables in a single line and assign values to them in such a manner that each one of \n",
    "# them belongs to a different data type.\n",
    "a = 1,\n",
    "b = 2.01,\n",
    "c = 'string'"
   ]
  },
  {
   "cell_type": "code",
   "execution_count": 13,
   "id": "f11cf8a1",
   "metadata": {},
   "outputs": [
    {
     "name": "stdout",
     "output_type": "stream",
     "text": [
      "<class 'complex'>\n",
      "<class 'int'>\n"
     ]
    }
   ],
   "source": [
    "#2. Create a variable of type complex and swap it with another variable of type integer.\n",
    "d = 10 +5j\n",
    "print(type(d))\n",
    "d = 5\n",
    "print(type(d))"
   ]
  },
  {
   "cell_type": "code",
   "execution_count": 16,
   "id": "56eabf90",
   "metadata": {},
   "outputs": [
    {
     "name": "stdout",
     "output_type": "stream",
     "text": [
      "2 4 8\n",
      "8 4 8\n",
      "2 4\n",
      "8 4\n"
     ]
    }
   ],
   "source": [
    "#3. Swap two numbers using a third variable and do the same task without using any third variable.\n",
    "a = 2\n",
    "b = 4\n",
    "c = 8\n",
    "print(a,b,c)\n",
    "a = c\n",
    "print(a,b,c)\n",
    "\n",
    "# Without using third variable\n",
    "a = 2\n",
    "b = 4\n",
    "print(a,b)\n",
    "a = 8\n",
    "print(a,b)"
   ]
  },
  {
   "cell_type": "code",
   "execution_count": 17,
   "id": "8d679df7",
   "metadata": {},
   "outputs": [
    {
     "name": "stdout",
     "output_type": "stream",
     "text": [
      "Please enter anything that you wanted to get it print: My name is Tanay\n",
      "My name is Tanay\n"
     ]
    }
   ],
   "source": [
    "#4. Write a program that takes input from the user and prints it using both Python 2.x and Python 3.x Version.\n",
    "# Python 2\n",
    "\n",
    "a =  input('Please enter anything that you wanted to get it print: ')\n",
    "# print a           -- commenting it as I am using Python3\n",
    "\n",
    "#Python 3\n",
    "print(a)"
   ]
  },
  {
   "cell_type": "code",
   "execution_count": 18,
   "id": "8c3d5fc7",
   "metadata": {},
   "outputs": [
    {
     "name": "stdout",
     "output_type": "stream",
     "text": [
      "Please enter your 1st no. between 1-10: 7\n",
      "Please enter your 2nd no. between 1-10: 3\n",
      "This is the final output:  40\n"
     ]
    }
   ],
   "source": [
    "#5. Write a program to complete the task given below:\n",
    "#Ask users to enter any 2 numbers in between 1-10 , add the two numbers and keep the sum in\n",
    "#another variable called z. Add 30 to z and store the output in variable result and print result as the\n",
    "#final output.\n",
    "\n",
    "a = int(input(\"Please enter your 1st no. between 1-10: \"))\n",
    "b = int(input(\"Please enter your 2nd no. between 1-10: \"))\n",
    "z = a + b\n",
    "final_output = z + 30\n",
    "print('This is the final output: ', final_output)\n"
   ]
  },
  {
   "cell_type": "code",
   "execution_count": 110,
   "id": "edc60a21",
   "metadata": {},
   "outputs": [
    {
     "name": "stdout",
     "output_type": "stream",
     "text": [
      "Enter your characters to check its datatypes: 10.1\n",
      "The data type of the input value is : float\n"
     ]
    }
   ],
   "source": [
    "#6. Write a program to check the data type of the entered values.\n",
    "#HINT: Printed output should say - The data type of the input value is : int/float/string/etc\n",
    "def data():\n",
    "    a = input('Enter your characters to check its datatypes: ')\n",
    "    if a.isdigit():\n",
    "        return 'int'\n",
    "    try: \n",
    "        float(a)\n",
    "        return 'float'\n",
    "    except ValueError:\n",
    "        pass\n",
    "    return 'str'\n",
    "\n",
    "result = data()\n",
    "print('The data type of the input value is :', result)"
   ]
  },
  {
   "cell_type": "code",
   "execution_count": 112,
   "id": "66074aea",
   "metadata": {},
   "outputs": [],
   "source": [
    "#7. Create Variables using formats such as Upper CamelCase, Lower CamelCase, SnakeCase and\n",
    "#UPPERCASE.\n",
    "#(Refer: https://capitalizemytitle.com/camel-case/)\n",
    "Tanay = 10\n",
    "TANAY = 100\n",
    "tanay = 1000"
   ]
  },
  {
   "cell_type": "code",
   "execution_count": null,
   "id": "5fcf8650",
   "metadata": {},
   "outputs": [],
   "source": [
    "#8. If one data type value is assigned to ‘a’ variable and then a different data type value is assigned to ‘a’\n",
    "#again. Will it change the value? If Yes then Why?\n",
    "\n"
   ]
  },
  {
   "cell_type": "markdown",
   "id": "c80f381f",
   "metadata": {},
   "source": [
    "# TASK 2"
   ]
  },
  {
   "cell_type": "code",
   "execution_count": 119,
   "id": "7ae05222",
   "metadata": {},
   "outputs": [
    {
     "name": "stdout",
     "output_type": "stream",
     "text": [
      "Please enter your no.: 15\n",
      "Consultadd - Python Training\n"
     ]
    }
   ],
   "source": [
    "'''\n",
    "1. Write a program in Python to perform the following operation:\n",
    "If a number is divisible by 3 it should print “Consultadd” as a string\n",
    "If a number is divisible by 5 it should print “Python Training” as a string\n",
    "If a number is divisible by both 3 and 5 it should print “Consultadd - Python Training” as a\n",
    "string.\n",
    "'''\n",
    "\n",
    "a = int(input('Please enter your no.: '))\n",
    "\n",
    "if ((a%3 == 0) & (a%5 == 0)):\n",
    "    print ('Consultadd - Python Training')\n",
    "elif a%3 == 0:\n",
    "    print('Consultadd')\n",
    "elif a%5 ==0:\n",
    "    print('Python Training')"
   ]
  },
  {
   "cell_type": "code",
   "execution_count": 136,
   "id": "1e0b4be0",
   "metadata": {},
   "outputs": [
    {
     "name": "stdout",
     "output_type": "stream",
     "text": [
      "Please enter a no corresponding to the one you want to choose: Enter 1 - Addition, Enter 2 - Subtraction, Enter 3 - Division, Enter 4 - Multiplication, Enter 5 - Average5\n",
      "Please enter your 1st no.: 1\n",
      "Please enter your 2nd no.: 2\n",
      "Please enter 3rd no. for average: 3\n",
      "Please enter 4rd no. for average: 4\n",
      "2.5\n"
     ]
    }
   ],
   "source": [
    "'''2. Write a program in Python to perform the following operator based task:\n",
    "    Ask user to choose the following option first:\n",
    "If User Enter 1 - Addition\n",
    "If User Enter 2 - Subtraction\n",
    "If User Enter 3 - Division\n",
    "If User Enter 4 - Multiplication\n",
    "If User Enter 5 - Average\n",
    "Ask user to enter two numbers and keep those numbers in variables num1 and num2\n",
    "respectively for the first 4 options mentioned above.\n",
    "Ask the user to enter two more numbers as first and second for calculating the average as\n",
    "soon as the user chooses an option 5.\n",
    "At the end if the answer of any operation is Negative print a statement saying “NEGATIVE”\n",
    "NOTE: At a time a user can only perform one action.'''\n",
    "\n",
    "a = int(input('Please enter a no corresponding to the one you want to choose: Enter 1 - Addition, Enter 2 - Subtraction, Enter 3 - Division, Enter 4 - Multiplication, Enter 5 - Average'))\n",
    "num1 = int(input('Please enter your 1st no.: '))\n",
    "num2 = int(input('Please enter your 2nd no.: '))\n",
    "if a == 1:\n",
    "    addi = num1 + num2\n",
    "    if addi < 0:\n",
    "        print('NEGATIVE')\n",
    "    else:\n",
    "        print(addi)\n",
    "\n",
    "elif a ==2:\n",
    "    addi = num1 - num2\n",
    "    if addi < 0:\n",
    "        print('NEGATIVE')\n",
    "    else:\n",
    "        print(addi)\n",
    "\n",
    "elif a ==3:\n",
    "    addi = num1 / num2\n",
    "    if addi < 0:\n",
    "        print('NEGATIVE')\n",
    "    else:\n",
    "        print(addi)\n",
    "        \n",
    "elif a ==4:\n",
    "    addi = num1 * num2\n",
    "    if addi < 0:\n",
    "        print('NEGATIVE')\n",
    "    else:\n",
    "        print(addi)\n",
    "\n",
    "elif a ==5:\n",
    "    num3 = int(input('Please enter 3rd no. for average: '))\n",
    "    num4 = int(input('Please enter 4rd no. for average: '))\n",
    "    addi = (num1 + num2 + num3 + num4)/4\n",
    "    if addi < 0:\n",
    "        print('NEGATIVE')\n",
    "    else:\n",
    "        print(addi)\n"
   ]
  },
  {
   "cell_type": "code",
   "execution_count": 141,
   "id": "f766c4a1",
   "metadata": {},
   "outputs": [
    {
     "name": "stdout",
     "output_type": "stream",
     "text": [
      "avg=  23.333333333333332\n",
      "avg is higher than:  20 20\n"
     ]
    }
   ],
   "source": [
    "#3. Write a program in Python to implement the given flowchart:\n",
    "a = 10\n",
    "b = 20\n",
    "c = 30\n",
    "\n",
    "avg = (a+b+c)/3\n",
    "print('avg= ', avg)\n",
    "\n",
    "if (avg > a and avg > b and avg > c):\n",
    "    print ('avg is higher than: ',a,b,c)\n",
    "elif (avg>a and avg>b):\n",
    "    print ('avg is higher than: ',a,b)\n",
    "elif (avg > a and avg>c):\n",
    "    print ('avg is higher than: ',a,c)\n",
    "elif (avg > b and avg>c):\n",
    "    print ('avg is higher than: ',b,c)\n",
    "elif avg > a:\n",
    "    print ('avg is just higher than: ',a)\n",
    "elif avg > b:\n",
    "    print ('avg is just higher than: ',b)\n",
    "elif avg > c:\n",
    "    print ('avg is just higher than: ',c)\n"
   ]
  },
  {
   "cell_type": "code",
   "execution_count": 164,
   "id": "c43f3bf0",
   "metadata": {},
   "outputs": [
    {
     "name": "stdout",
     "output_type": "stream",
     "text": [
      "Enter a number: 10\n",
      "Good Going\n",
      "Enter a number: -10\n",
      "It's Over\n"
     ]
    }
   ],
   "source": [
    "#4. Write a program in Python to break and continue if the following cases occurs:\n",
    "#If user enters a negative number just break the loop and print “It’s Over”\n",
    "#If user enters a positive number just continue in the loop and print “Good Going”\n",
    "\n",
    "while True:\n",
    "    user_input = int(input(\"Enter a number: \"))\n",
    "\n",
    "    if user_input < 0:\n",
    "        print(\"It's Over\")\n",
    "        break\n",
    "    else:\n",
    "        print(\"Good Going\")"
   ]
  },
  {
   "cell_type": "code",
   "execution_count": 162,
   "id": "15aad472",
   "metadata": {},
   "outputs": [
    {
     "name": "stdout",
     "output_type": "stream",
     "text": [
      "[2002, 2009, 2016, 2023, 2037, 2044, 2051, 2058, 2072, 2079, 2086, 2093, 2107, 2114, 2121, 2128, 2142, 2149, 2156, 2163, 2177, 2184, 2191, 2198, 2212, 2219, 2226, 2233, 2247, 2254, 2261, 2268, 2282, 2289, 2296, 2303, 2317, 2324, 2331, 2338, 2352, 2359, 2366, 2373, 2387, 2394, 2401, 2408, 2422, 2429, 2436, 2443, 2457, 2464, 2471, 2478, 2492, 2499, 2506, 2513, 2527, 2534, 2541, 2548, 2562, 2569, 2576, 2583, 2597, 2604, 2611, 2618, 2632, 2639, 2646, 2653, 2667, 2674, 2681, 2688, 2702, 2709, 2716, 2723, 2737, 2744, 2751, 2758, 2772, 2779, 2786, 2793, 2807, 2814, 2821, 2828, 2842, 2849, 2856, 2863, 2877, 2884, 2891, 2898, 2912, 2919, 2926, 2933, 2947, 2954, 2961, 2968, 2982, 2989, 2996, 3003, 3017, 3024, 3031, 3038, 3052, 3059, 3066, 3073, 3087, 3094, 3101, 3108, 3122, 3129, 3136, 3143, 3157, 3164, 3171, 3178, 3192, 3199]\n"
     ]
    }
   ],
   "source": [
    "#5. Write a program in Python which will find all such numbers which are divisible by 7 but are not a\n",
    "# multiple of 5, between 2000 and 3200.\n",
    "\n",
    "a = range(2000,3200)\n",
    "l = []\n",
    "for i in a:\n",
    "    if i%7 ==0 and i%5 !=0:\n",
    "        l.append(i)\n",
    "print(l)"
   ]
  },
  {
   "cell_type": "markdown",
   "id": "d91ba71d",
   "metadata": {},
   "source": [
    "## Problem 6 (i)\n",
    "x = 123\n",
    "for i in x:\n",
    "    print(i)\n",
    "    \n",
    "### The output should give an error since int objects are not iterable."
   ]
  },
  {
   "cell_type": "markdown",
   "id": "ef49e21f",
   "metadata": {},
   "source": [
    "## Probelm 6 (ii)\n",
    "\n",
    "i = 0\n",
    "while i < 5:\n",
    "    print(i)\n",
    "    i += 1\n",
    "    if i == 3:\n",
    "        break\n",
    "    else:\n",
    "        print('error')\n",
    "        \n",
    "### The output is as follows:\n",
    "    0\n",
    "    error\n",
    "    1\n",
    "    error\n",
    "    2"
   ]
  },
  {
   "cell_type": "markdown",
   "id": "ebf59894",
   "metadata": {},
   "source": [
    "## Probelm 6(iii)\n",
    "count = 0\n",
    "while True:\n",
    "    print(count)\n",
    "    count += 1\n",
    "    if count >= 5:\n",
    "        break\n",
    "\n",
    "### The output is going to be: \n",
    "    0\n",
    "    1\n",
    "    2\n",
    "    3\n",
    "    4"
   ]
  },
  {
   "cell_type": "code",
   "execution_count": 170,
   "id": "ec5c58b5",
   "metadata": {},
   "outputs": [
    {
     "name": "stdout",
     "output_type": "stream",
     "text": [
      "0 1 2 4 5 "
     ]
    }
   ],
   "source": [
    "#7. Write a program that prints all the numbers from 0 to 6 except 3 and 6.\n",
    "#Expected output: 0 1 2 4 5\n",
    "#Note: Use ‘continue’ statement\n",
    "\n",
    "for i in range(7):\n",
    "    if i ==3 or i == 6:\n",
    "        continue\n",
    "    else:\n",
    "        print(i, end = ' ')"
   ]
  },
  {
   "cell_type": "code",
   "execution_count": 171,
   "id": "b6836730",
   "metadata": {},
   "outputs": [
    {
     "name": "stdout",
     "output_type": "stream",
     "text": [
      "False\n"
     ]
    }
   ],
   "source": [
    "a = 'consul72'\n",
    "print(a.isdigit())"
   ]
  },
  {
   "cell_type": "code",
   "execution_count": 173,
   "id": "75858835",
   "metadata": {},
   "outputs": [
    {
     "name": "stdout",
     "output_type": "stream",
     "text": [
      "Letters:  6    Digits:  2\n"
     ]
    }
   ],
   "source": [
    "#8. Write a program that accepts a string as an input from the user and calculate the number of digits\n",
    "#and letters.\n",
    "#Sample input: consul72\n",
    "#Expected output: Letters 6 Digits 2\n",
    "\n",
    "a = 'consul72'\n",
    "d = 0\n",
    "l = 0\n",
    "for i in a:\n",
    "    if i.isalpha():\n",
    "        l +=1\n",
    "    else:\n",
    "        d +=1\n",
    "print('Letters: ',l,'  ','Digits: ',d)"
   ]
  },
  {
   "cell_type": "code",
   "execution_count": 176,
   "id": "c340013c",
   "metadata": {},
   "outputs": [
    {
     "name": "stdout",
     "output_type": "stream",
     "text": [
      "Enter a number: 76\n",
      "Do you want to guess again? (yes/no): yes\n",
      "Enter a number: 5\n",
      "Do you want to guess again? (yes/no): yes\n",
      "Enter a number: 77\n",
      "You guessed it right\n"
     ]
    }
   ],
   "source": [
    "#9. Read the two parts of the question below:\n",
    "# * Write a program such that it asks users to “guess the lucky number”. If the correct number is\n",
    "#guessed the program stops, otherwise it continues forever.\n",
    "# * Modify the program so that it asks users whether they want to guess again each time. Use two\n",
    "#variables, ‘number’ for the number and ‘answer’ for the answer to the question whether they want\n",
    "#to continue guessing. The program stops if the user guesses the correct number or answers “no”. (\n",
    "#The program continues as long as a user has not answered “no” and has not guessed the correct\n",
    "#number)\n",
    "\n",
    "lucky_number = 77\n",
    "while True:\n",
    "    user_input = int(input(\"Enter a number: \"))\n",
    "\n",
    "    if user_input == lucky_number:\n",
    "        print(\"You guessed it right\")\n",
    "        break\n",
    "    else:\n",
    "        answer = input(\"Do you want to guess again? \")\n",
    "        if answer.lower() == \"no\":\n",
    "            break\n",
    "\n"
   ]
  },
  {
   "cell_type": "code",
   "execution_count": 186,
   "id": "57776bef",
   "metadata": {},
   "outputs": [
    {
     "name": "stdout",
     "output_type": "stream",
     "text": [
      "Type in the 1 number: 1\n",
      "Try again!\n",
      "Type in the 2 number: 2\n",
      "Try again!\n",
      "Type in the 3 number: 3\n",
      "Try again!\n",
      "Type in the 4 number: 4\n",
      "Try again!\n",
      "Type in the 5 number: 7\n",
      "Good guess!\n",
      "Game over!\n"
     ]
    }
   ],
   "source": [
    "\"\"\"\n",
    "10. Write a program that asks five times to guess the lucky number. Use a while loop and a counter,\n",
    "such as\n",
    "count=1\n",
    "While counter <= 5:\n",
    "print(“Type in the”, counter, “number”\n",
    "counter=counter+1\n",
    "\"\"\"\n",
    "lucky_number = 7\n",
    "counter = 1\n",
    "\n",
    "while counter <= 5:\n",
    "    guess = int(input(\"Type in the {} number: \".format(counter)))\n",
    "\n",
    "    if guess == lucky_number:\n",
    "        print(\"Good guess!\")\n",
    "    else:\n",
    "        print(\"Try again!\")\n",
    "\n",
    "    counter += 1\n",
    "\n",
    "print(\"Game over!\")"
   ]
  },
  {
   "cell_type": "code",
   "execution_count": 193,
   "id": "43e20e57",
   "metadata": {},
   "outputs": [
    {
     "name": "stdout",
     "output_type": "stream",
     "text": [
      "Type in the 1 number: 1\n",
      "Try again!\n",
      "Type in the 2 number: 2\n",
      "Try again!\n",
      "Type in the 3 number: 3\n",
      "Try again!\n",
      "Type in the 4 number: 4\n",
      "Try again!\n",
      "Type in the 5 number: 5\n",
      "Try again!\n",
      "Sorry, but that was not very successful.\n",
      "Game over!\n"
     ]
    }
   ],
   "source": [
    "#11. In the previous question, insert break after the “Good guess!” print statement. break will terminate\n",
    "#the while loop so that users do not have to continue guessing after they found the number. If the user\n",
    "#does not guess the number at all, print “Sorry but that was not very successful”.\n",
    "\n",
    "lucky_number = 7\n",
    "counter = 1\n",
    "\n",
    "while counter <= 5:\n",
    "    guess = int(input(\"Type in the {} number: \".format(counter)))\n",
    "\n",
    "    if guess == lucky_number:\n",
    "        print(\"Good guess!\")\n",
    "        break\n",
    "    else:\n",
    "        print(\"Try again!\")\n",
    "    \n",
    "\n",
    "    counter += 1\n",
    "\n",
    "if counter > 5:\n",
    "    print(\"Sorry, but that was not very successful.\")\n",
    "\n",
    "print(\"Game over!\")"
   ]
  },
  {
   "cell_type": "code",
   "execution_count": null,
   "id": "07cc0f28",
   "metadata": {},
   "outputs": [],
   "source": []
  }
 ],
 "metadata": {
  "kernelspec": {
   "display_name": "Python 3 (ipykernel)",
   "language": "python",
   "name": "python3"
  },
  "language_info": {
   "codemirror_mode": {
    "name": "ipython",
    "version": 3
   },
   "file_extension": ".py",
   "mimetype": "text/x-python",
   "name": "python",
   "nbconvert_exporter": "python",
   "pygments_lexer": "ipython3",
   "version": "3.9.12"
  }
 },
 "nbformat": 4,
 "nbformat_minor": 5
}
